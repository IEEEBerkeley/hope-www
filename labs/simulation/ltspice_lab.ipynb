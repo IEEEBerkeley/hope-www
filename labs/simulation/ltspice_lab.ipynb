{
 "cells": [
  {
   "cell_type": "markdown",
   "metadata": {},
   "source": [
    "# Week 8 Lab: LTspice Circuit Simulation\n",
    "\n",
    "### IEEE: Hands on Practical Electronics, Fall 2017"
   ]
  },
  {
   "cell_type": "markdown",
   "metadata": {},
   "source": [
    "## Table of Contents\n",
    "\n",
    "* [Introduction](#intro)\n",
    "* [Task 0: Opening LTspice](#task0)\n",
    "* [Task 1: The Components](#task1)\n",
    "* [Task 2: DC Simulation](#task2)\n",
    "* [Task 3: Time Domain (Transient) Simulation](#task3)"
   ]
  },
  {
   "cell_type": "markdown",
   "metadata": {},
   "source": [
    "<a id='intro'></a>\n",
    "## Introduction\n",
    "In this lab we'll be exploring LTspice, one of the most popular circuit simulators being used today. It's developed by Linear Technologies, an integrated circuits company that was recently acquired by Analog Devices, another huge integrated circuits company. Here's LT's logo."
   ]
  },
  {
   "cell_type": "markdown",
   "metadata": {
    "collapsed": true
   },
   "source": [
    "<center>\n",
    "<img src=\"lt_logo.png\" style=\"height:100px; display:inline-block;\">\n",
    "</center>\n",
    "<br/>"
   ]
  },
  {
   "cell_type": "markdown",
   "metadata": {
    "collapsed": true
   },
   "source": [
    "<a id='task0'></a>\n",
    "## Task 0: Opening LTspice\n",
    "\n",
    "Look for the LT logo on your desktop and open up LTspice. If it asks you to update, do **not** update.<br>\n",
    "You should see a screen that looks something like this, with maybe a different watermark background."
   ]
  },
  {
   "cell_type": "markdown",
   "metadata": {},
   "source": [
    "<center>\n",
    "<img src=\"ltspice_open.png\" style=\"height:400px; display:inline-block;\">\n",
    "</center>\n",
    "<br/>"
   ]
  },
  {
   "cell_type": "markdown",
   "metadata": {},
   "source": [
    "Press **ctrl+N** to open a new schematic.\n",
    "This is your blank canvas, where we'll build schematics from.\n",
    "The toolbar contains a small selection of commonly used components that you can choose from. You'll see symbols for wires, resistors, capacitors, inductors, ground, and more."
   ]
  },
  {
   "cell_type": "markdown",
   "metadata": {},
   "source": [
    "<a id='task1'></a>\n",
    "## Task 1: The Components\n",
    "\n",
    "Let's familarize ourselves with the components by plopping some of them down on our schematic. Place the following on your schematic. You can find the resistor and ground comonents on the toolbar. You can access the voltage component by clicking **Edit -> Component** or the **Component** button on the toolbar. You can zoom in and out using the mousewheel. If ever you want to snap the view back to your components, click **View -> Zoom to Fit**\n",
    "* 2 resistors\n",
    "* ground\n",
    "* voltage"
   ]
  },
  {
   "cell_type": "markdown",
   "metadata": {},
   "source": [
    "<center>\n",
    "<img src=\"ltspice_task1.png\" style=\"height:400px; display:inline-block;\">\n",
    "</center>\n",
    "<br/>"
   ]
  },
  {
   "cell_type": "markdown",
   "metadata": {},
   "source": [
    "<a id='task2'></a>\n",
    "## Task 2: DC Simulation\n",
    "\n",
    "Let's start out by building a simple voltage divider with two resistors and a voltage source. We'll run a DC simulation on our schematic. This will instruct LTspice to solve our circuit for all the relevant currents and voltages that are part of our circuit. First we'll need to complete our circuit.\n",
    "* Use **Wire** from the toolbar to connect the voltage source and resistors all in series.\n",
    "* Connect the ground cymbol to the negative terminal of the voltage source.\n",
    "* Right click the voltage source to set the DC voltage to **5**. (This means the voltage source will now output 5 volts)\n",
    "* Right click each of the two resistors and set both of their Resistance values to **100**. (This means that each resistor is now 100 Ohms)\n",
    "* Use **Label Net** from the toolbar to label the node between the two resistors. Click **Label Net**. This will open up a dialog box asking you to enter the net name. Let's call it **div**. Click ok. Your cursor is now replaced with a label net object. Click the wire between the two resistors to associate your label net with that wire node."
   ]
  },
  {
   "cell_type": "markdown",
   "metadata": {},
   "source": [
    "<center>\n",
    "<img src=\"ltspice_task2_schematic.png\" style=\"height:400px; display:inline-block;\">\n",
    "</center>\n",
    "<br/>"
   ]
  },
  {
   "cell_type": "markdown",
   "metadata": {},
   "source": [
    "To be able to run the DC simulation, we need to tell LTspice that we're looking to solve for the \"DC operation point\"\n",
    "* Right click anywhere in the schematic. Click **Edit Simulation Cmd.**\n",
    "* Go to the **DC op pnt** tab.\n",
    "* Click ok. This will allow you to place a **.op** SPICE directive component on your schematic. Put it anywhere. This is SPICE directive component tells LTspice that you want to run an operating point simulation.\n",
    "* Right click anywhere in the schematic. Click **Run**. (You can also just click the running man in the toolbar)"
   ]
  },
  {
   "cell_type": "markdown",
   "metadata": {},
   "source": [
    "<center>\n",
    "<img src=\"ltspice_task2_simulation.png\" style=\"height:400px; display:inline-block;\">\n",
    "</center>\n",
    "<br/>\n",
    "Are the voltages and currents what you expected to see? What's the voltage at the **div** node? Is this what you expected? Confirm that the simulation is consistent with what you know by solving the circuit by hand using Ohm's law. Try changing the values of the resistor or voltage, and rerun the simulation. Pretty cool, huh?"
   ]
  },
  {
   "cell_type": "markdown",
   "metadata": {},
   "source": [
    "What if we want to change the voltage of V1 and see how that affects the currents through our resistors and the voltage at the **div** node? We can do this by running a DC sweep simulation. We will sweep our V1 voltage between 0V and 10V with 1V increments.\n",
    "* Set the resistance of R1 to **100**\n",
    "* Set the resistance of R2 to **300**\n",
    "* Right click anywhere on the schematic and click **Edit Simulation Cmd.**\n",
    "* Go to the **DC sweep** tab.\n",
    "* Name of 1st source to sweep: **V1**\n",
    "* Type of sweep: **Linear** (this means that your sweep value will increment linearly with equal intervals)\n",
    "* Start value: **0**\n",
    "* Stop value: **10**\n",
    "* Increment: **1**\n",
    "* Click ok. Place the SPICE directive where convenient.\n",
    "* Right click anywhere on the schematic and click **Run**."
   ]
  },
  {
   "cell_type": "markdown",
   "metadata": {},
   "source": [
    "A black window pops up. This is where the graph of your results will be displayed. For example, to display how V(div) varies as a function of the voltage of V1 (the voltage source), click the wire that's associated with **div**. You'll notice that your cursor is now in the shape of either a voltage or current probe depending on where you hover over the schematic. It just means you can probe either the voltage at a node, or the current through a component. Probe these:\n",
    "* Voltage at **div**\n",
    "* Current through **R1**\n",
    "* Current through **R2**"
   ]
  },
  {
   "cell_type": "markdown",
   "metadata": {},
   "source": [
    "<center>\n",
    "<img src=\"ltspice_task2_simulation2.png\" style=\"height:400px; display:inline-block;\">\n",
    "</center>\n",
    "<br/>\n",
    "The horizontal axis is the voltage of V1, the parameter you're sweeping. The vertical axis will adjust itself according to what you're probing. Does the graph agree with Ohm's law? If you're confused, ask! :D"
   ]
  },
  {
   "cell_type": "markdown",
   "metadata": {},
   "source": [
    "<a id='task3'></a>\n",
    "## Task 3: Time Domain (Transient) Simulation\n",
    "\n",
    "Open the schematic file that's included in the zip package, \"trans_sim.asc\".<br><br>\n",
    "Take a look at the circuit we built for you. What is this circuit? We've seen it before somewhere :)<br>What are these components for?\n",
    "* V1, V2\n",
    "* R1, R2\n",
    "* U1"
   ]
  },
  {
   "cell_type": "markdown",
   "metadata": {},
   "source": [
    "Before you run the simulation, think about what you would expect to see as the input voltage and the output voltage. Run the simulation. Probe the voltage at the input and the voltage at the output. What do you see? Is this what you expected? What's going on?"
   ]
  },
  {
   "cell_type": "markdown",
   "metadata": {},
   "source": [
    "Modify and fix the circuit so that we get a complete sinusoid with an amplitude of 2V at the output. Show one of us your solution when you're done!"
   ]
  },
  {
   "cell_type": "code",
   "execution_count": null,
   "metadata": {
    "collapsed": true
   },
   "outputs": [],
   "source": []
  }
 ],
 "metadata": {
  "kernelspec": {
   "display_name": "Python 3",
   "language": "python",
   "name": "python3"
  },
  "language_info": {
   "codemirror_mode": {
    "name": "ipython",
    "version": 3
   },
   "file_extension": ".py",
   "mimetype": "text/x-python",
   "name": "python",
   "nbconvert_exporter": "python",
   "pygments_lexer": "ipython3",
   "version": "3.6.1"
  }
 },
 "nbformat": 4,
 "nbformat_minor": 1
}
