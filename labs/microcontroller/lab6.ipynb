{
 "cells": [
  {
   "cell_type": "markdown",
   "metadata": {},
   "source": [
    "# Lab 6: Introduction to Microcontrollers\n",
    "\n",
    "### IEEE: Hands on Practical Electronics, Spring 2017"
   ]
  },
  {
   "cell_type": "markdown",
   "metadata": {},
   "source": [
    "## Table of Contents\n",
    "\n",
    "* [Introduction](#intro)\n",
    "* [Task 0: Getting the Arduino IDE](#task0)\n",
    "* [Task 1: Blinking the Onboard LED](#task1)\n",
    "* [Task 2: Changing the Blinking Rhythm](#task2)\n",
    "* [Task 3: Blinking an Offboard LED](#task3)\n",
    "* [Task 4: The One Bit Adder Strikes Again!](#task4)\n",
    "* [Task 5: Extra](#task5)"
   ]
  },
  {
   "cell_type": "markdown",
   "metadata": {},
   "source": [
    "<a id='intro'></a>\n",
    "## Introduction\n",
    "In this lab we'll be exploring what the Arduino is and what it's capable of. Most of the lab components for today will compose of lighting up LED's and familiarizing yourself with writing simple C code. For those with limited programming experience, worry not! Most of the code that we'll be modifying / tweaking today will require some pattern recognition skills on your part, but not necessarily coding experience."
   ]
  },
  {
   "cell_type": "markdown",
   "metadata": {},
   "source": [
    "<a id='task0'></a>\n",
    "## Task 0: Getting the Arduino IDE\n",
    "\n",
    "To program the Arduino microcontroller, we're going to need the Arduino Integrated Development Environment (IDE). This can be downloaded here: https://www.arduino.cc/en/Main/Software"
   ]
  },
  {
   "cell_type": "markdown",
   "metadata": {},
   "source": [
    "<a id='task1'></a>\n",
    "## Task 1: Blinking the Onboard LED\n",
    "\n",
    "To get ourselves started with the fantastic Arduino microcontroller, we're going to first blink the LED that comes pre-built on development board. This LED won't look like the LED's that we've been using in class because it's part of a class of components called Surface-Mount Devices (SMD). Surface-Mount Devices are designed to be extremely low-profile so that we can have nice, flat circuit boards.\n",
    "\n",
    "<b>Here's the SMD LED of interest on the Arduino development board. (labelled L)</b>\n",
    "\n",
    "You'll notice that that's not the only SMD LED onboard, but it's the one that we'll be using in Task 1.\n",
    "\n",
    "<center>\n",
    "<img src=\"http://vps.hallchen.us/hope/arduino_uno_light.jpg\" style=\"height:350px; display:inline-block;\">\n",
    "</center>\n",
    "<br/>\n",
    "\n",
    "1. Connect the Arduino to your computer using the USB cable.\n",
    "2. Open up Arduino 1.8.1 IDE.\n",
    "3. Go to File -> Examples -> 01.Basics -> Blink.\n",
    "\n",
    "Great. The Blink.ino sketch should have opened. (An Arduino program is called a sketch. They have .ino file extension.) Read through the code and see if you can make sense of what's going on. The top comment gives a good description of what this sketch is supposed to do.\n",
    "\n",
    "<b>Upload the sketch to the Arduino microcontroller by clicking the Arrow button pointing East. (top left corner)</b>\n",
    "\n",
    "Progress will display in the little black screen towards the bottom of the IDE. This could take anywhere from a few seconds to a minute. If there are any problems uploading the sketch at this point, ask somebody for help!"
   ]
  },
  {
   "cell_type": "markdown",
   "metadata": {},
   "source": [
    "<a id='task2'></a>\n",
    "## Task 2: Changing the Blinking Rhythm\n",
    "\n",
    "Now that you're familiar with how to upload a simple LED-blinking sketch to the Arduino, let's try switching things up a bit. The default Blink.ino sketch blinks the LED with a <b>period</b> of 2 seconds and a <b>duty cycle</b> of 50%. This means that an entire cycle takes 2 seconds and that the LED is on for 50% of the time, and off for 50% of the time.\n",
    "\n",
    "1. As you can imagine, this can get pretty boring, pretty fast. Let's make it blink faster! Try modifying the code so that it blinks with a period of 1 second and a duty cycle of 50%. Upload the sketch and verify that your code did what you expected it to do.\n",
    "2. Let's change the blinking rhythm! Modify your code so that it blinks with a period of 1 second and a duty cycle of 75%. (on for 75% of the time, off for 25% of the time) Upload and verify that your code behaves as expected.\n",
    "\n",
    "This is a pretty big accomplishment for those of you who haven't coded before. Good job! :D"
   ]
  },
  {
   "cell_type": "markdown",
   "metadata": {},
   "source": [
    "<a id='task3'></a>\n",
    "## Task 3: Blinking an Offboard LED\n",
    "\n",
    "Alright, we're ready to stop using the onboard LED now. I mean...there's only so much you can do with one measly LED. Let's try modifying our Blink program so that we can blink an offboard LED.\n",
    "\n",
    "You will need:\n",
    "1. An LED\n",
    "2. A sensibly-sized resistor to protect the LED (you will be working with 5V)\n",
    "\n",
    "Connect the LED and resistor (in series) from Pin 9 to the Gnd pin of the Arduino development board. Pretend that Pin 9 is Vcc.\n",
    "Download and upload the sketch: http://www.bit.ly/blinkoffboard\n",
    "\n",
    "If something doesn't work, ask for help!"
   ]
  },
  {
   "cell_type": "markdown",
   "metadata": {},
   "source": [
    "<a id='task4'></a>\n",
    "## Task 4: The One Bit Adder Strikes Again!\n",
    "\n",
    "So you saw last week how much of a pain in the butt it was to implement a 1-bit adder using discrete logic gates. In Task 4, you'll see why microcontrollers (and computers) are so great. They allow you to implement complex logic functions using nothing but a few (sometimes more) lines of code. This week, we're going to be building the exact same 1-bit adder from last week, except with a microcontroller. It's going to be a lot easier.\n",
    "\n",
    "You will need:\n",
    "1. 2 LED's\n",
    "2. 2 sensibly-sized resistors to protect the LED's\n",
    "3. 2 dedicated wires for setting the 2 inputs high or low\n",
    "\n",
    "Connect one LED and resistor (in series) from Pin 9 to the Gnd pin of the Arduino development board. Connect the other LED and resistor (in series) from Pin 10 to the Gnd pin of the Arduino development board. These 2 LED's will indicate the 2 output bits of your adder.\n",
    "\n",
    "* Pin 9 is C0.\n",
    "* Pin 10 is C1.\n",
    "\n",
    "Connect one of the dedicated wires to Pin 7 and leave it floating. Connect the other dedicated wire from Pin 8 and leave it floating. These dedicated wires will set your inputs.\n",
    "\n",
    "* Pin 7 is input A.\n",
    "* Pin 8 is input B.\n",
    "\n",
    "Here's the truth table from the 1-bit adder lab last week if you need a refresher.\n",
    "\n",
    "<center>\n",
    "<img src=\"http://vps.hallchen.us/hope/one_bit_adder_truth_table.PNG\" style=\"height:350px; display:inline-block;\">\n",
    "</center>\n",
    "<br/>\n",
    "\n",
    "Download the one_bit_adder.ino sketch from here: http://www.bit.ly/onebitadder\n",
    "\n",
    "Upload the sketch. To test if your setup is working, connect the dedicated wires coming out of Pin7/8 (inputs A/B) to different combinations of HIGH (5V) and LOW (GND), and observe your LED outputs. Verify that the input/output combinations match with the truth table."
   ]
  },
  {
   "cell_type": "markdown",
   "metadata": {},
   "source": [
    "<a id='task5'></a>\n",
    "## Task 5: Extra\n",
    "\n",
    "If you're done early and feel like getting some more practice in on the Arduino, some ideas to work on:\n",
    "\n",
    "* Implement a full 2-bit adder from scratch\n",
    "* Implement an LED fader\n",
    "* Go home and sleep :)"
   ]
  }
 ],
 "metadata": {
  "anaconda-cloud": {},
  "kernelspec": {
   "display_name": "Python 3",
   "language": "python",
   "name": "python3"
  },
  "language_info": {
   "codemirror_mode": {
    "name": "ipython",
    "version": 3
   },
   "file_extension": ".py",
   "mimetype": "text/x-python",
   "name": "python",
   "nbconvert_exporter": "python",
   "pygments_lexer": "ipython3",
   "version": "3.6.0"
  }
 },
 "nbformat": 4,
 "nbformat_minor": 0
}
